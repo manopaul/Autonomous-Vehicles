{
 "cells": [
  {
   "cell_type": "markdown",
   "metadata": {
    "deletable": true,
    "editable": true
   },
   "source": [
    "# Self-Driving Car Engineer Nanodegree\n",
    "\n",
    "# Deep Learning\n",
    "\n",
    "## Project : Build a Traffic Sign Recognition Classifier"
   ]
  },
  {
   "cell_type": "markdown",
   "metadata": {
    "deletable": true,
    "editable": true
   },
   "source": [
    "## Step 1: Load The Data"
   ]
  },
  {
   "cell_type": "code",
   "execution_count": 1,
   "metadata": {
    "collapsed": false,
    "deletable": true,
    "editable": true
   },
   "outputs": [],
   "source": [
    "import pickle\n",
    "\n",
    "# Fill this in based on where you saved the training and testing data\n",
    "training_file = \"traffic-signs-data/train.p\"\n",
    "validation_file= \"traffic-signs-data/valid.p\"\n",
    "testing_file = \"traffic-signs-data/test.p\"\n",
    "\n",
    "with open(training_file, mode='rb') as f:\n",
    "    train = pickle.load(f)\n",
    "with open(validation_file, mode='rb') as f:\n",
    "    valid = pickle.load(f)\n",
    "with open(testing_file, mode='rb') as f:\n",
    "    test = pickle.load(f)\n",
    "    \n",
    "X_train, y_train = train['features'], train['labels']\n",
    "X_valid, y_valid = valid['features'], valid['labels']\n",
    "X_test, y_test = test['features'], test['labels']"
   ]
  },
  {
   "cell_type": "markdown",
   "metadata": {
    "deletable": true,
    "editable": true
   },
   "source": [
    "The pickled data is a dictionary with 4 key/value pairs:\n",
    "\n",
    "- `'features'` is a 4D array containing raw pixel data of the traffic sign images, (num examples, width, height, channels).\n",
    "- `'labels'` is a 1D array containing the label/class id of the traffic sign. The file `signnames.csv` contains id -> name mappings for each id.\n",
    "- `'sizes'` is a list containing tuples, (width, height) representing the original width and height the image.\n",
    "- `'coords'` is a list containing tuples, (x1, y1, x2, y2) representing coordinates of a bounding box around the sign in the image. **THESE COORDINATES ASSUME THE ORIGINAL IMAGE. THE PICKLED DATA CONTAINS RESIZED VERSIONS (32 by 32) OF THESE IMAGES**"
   ]
  },
  {
   "cell_type": "markdown",
   "metadata": {
    "deletable": true,
    "editable": true
   },
   "source": [
    "## Step 2: Dataset Exploration by determining Summary & Vizualization"
   ]
  },
  {
   "cell_type": "markdown",
   "metadata": {
    "deletable": true,
    "editable": true
   },
   "source": [
    "### 2.1 Summarizing the Dataset"
   ]
  },
  {
   "cell_type": "code",
   "execution_count": 2,
   "metadata": {
    "collapsed": false,
    "deletable": true,
    "editable": true
   },
   "outputs": [
    {
     "name": "stdout",
     "output_type": "stream",
     "text": [
      "Summary statistics of the traffic signs dataset\n",
      "\n",
      "Number of training examples = 34799\n",
      "Number of testing examples = 12630\n",
      "Number of validation examples = 4410\n",
      "Image data shape = (32, 32, 3)\n",
      "Number of classes = 43\n"
     ]
    }
   ],
   "source": [
    "def getDatasetInfo():\n",
    "    # Get the number of training examples\n",
    "    n_train = len(X_train)\n",
    "\n",
    "    # Get the number of validation examples\n",
    "    n_validation = len(X_valid)\n",
    "\n",
    "    # Get the number of testing examples.\n",
    "    n_test = len(X_test)\n",
    "\n",
    "    # Get the shape of an traffic sign image?\n",
    "    image_shape = X_train[1].shape\n",
    "\n",
    "    # Get the number of unique classes/labels there are in the dataset.\n",
    "    n_classes = len(set(y_train))\n",
    "\n",
    "    print(\"Summary statistics of the traffic signs dataset\")\n",
    "    print()\n",
    "    print(\"Number of training examples =\", n_train)\n",
    "    print(\"Number of testing examples =\", n_test)\n",
    "    print(\"Number of validation examples =\", n_validation)\n",
    "    print(\"Image data shape =\", image_shape)\n",
    "    print(\"Number of classes =\", n_classes)\n",
    "\n",
    "getDatasetInfo()"
   ]
  },
  {
   "cell_type": "markdown",
   "metadata": {
    "deletable": true,
    "editable": true
   },
   "source": [
    "### 2.2 Visualizing the dataset"
   ]
  },
  {
   "cell_type": "markdown",
   "metadata": {
    "deletable": true,
    "editable": true
   },
   "source": [
    "Loading a random image in color along with its index"
   ]
  },
  {
   "cell_type": "code",
   "execution_count": 3,
   "metadata": {
    "collapsed": false,
    "deletable": true,
    "editable": true
   },
   "outputs": [
    {
     "name": "stdout",
     "output_type": "stream",
     "text": [
      "(32, 32, 3)\n",
      "10\n"
     ]
    },
    {
     "data": {
      "image/png": "[encoded data removed]",
      "text/plain": [
       "<matplotlib.figure.Figure at 0x10ef785c0>"
      ]
     },
     "metadata": {},
     "output_type": "display_data"
    }
   ],
   "source": [
    "### Data exploration visualization code goes here.\n",
    "### Feel free to use as many code cells as needed.\n",
    "\n",
    "import matplotlib.pyplot as plt\n",
    "# Visualizations will be shown in the notebook.\n",
    "%matplotlib inline\n",
    "import random\n",
    "import numpy as np\n",
    "\n",
    "randomIndex = random.randint(0, len(X_train))\n",
    "image = X_train[randomIndex].squeeze()\n",
    "#plt.figure(figsize=(2,2))\n",
    "plt.imshow(image)\n",
    "\n",
    "print(image.shape)\n",
    "print(y_train[randomIndex])"
   ]
  },
  {
   "cell_type": "markdown",
   "metadata": {
    "deletable": true,
    "editable": true
   },
   "source": [
    "----\n",
    "\n",
    "## Step 3: Design and Test a Model Architecture\n",
    "\n",
    "Design and implement a deep learning model that learns to recognize traffic signs. Train and test your model on the [German Traffic Sign Dataset](http://benchmark.ini.rub.de/?section=gtsrb&subsection=dataset).\n",
    "\n",
    "The LeNet-5 implementation shown in the [classroom](https://classroom.udacity.com/nanodegrees/nd013/parts/fbf77062-5703-404e-b60c-95b78b2f3f9e/modules/6df7ae49-c61c-4bb2-a23e-6527e69209ec/lessons/601ae704-1035-4287-8b11-e2c2716217ad/concepts/d4aca031-508f-4e0b-b493-e7b706120f81) at the end of the CNN lesson is a solid starting point. You'll have to change the number of classes and possibly the preprocessing, but aside from that it's plug and play! \n",
    "\n",
    "With the LeNet-5 solution from the lecture, you should expect a validation set accuracy of about 0.89. To meet specifications, the validation set accuracy will need to be at least 0.93. It is possible to get an even higher accuracy, but 0.93 is the minimum for a successful project submission. \n",
    "\n",
    "There are various aspects to consider when thinking about this problem:\n",
    "\n",
    "- Neural network architecture (is the network over or underfitting?)\n",
    "- Play around preprocessing techniques (normalization, rgb to grayscale, etc)\n",
    "- Number of examples per label (some have more than others).\n",
    "- Generate fake data.\n",
    "\n",
    "Here is an example of a [published baseline model on this problem](http://yann.lecun.com/exdb/publis/pdf/sermanet-ijcnn-11.pdf). It's not required to be familiar with the approach used in the paper but, it's good practice to try to read papers like these."
   ]
  },
  {
   "cell_type": "markdown",
   "metadata": {
    "deletable": true,
    "editable": true
   },
   "source": [
    "### Pre-process the Data Set (normalization, grayscale, etc.)"
   ]
  },
  {
   "cell_type": "markdown",
   "metadata": {
    "deletable": true,
    "editable": true
   },
   "source": [
    "Minimally, the image data should be normalized so that the data has mean zero and equal variance. For image data, `(pixel - 128)/ 128` is a quick way to approximately normalize the data and can be used in this project. \n",
    "\n",
    "Other pre-processing steps are optional. You can try different techniques to see if it improves performance. \n",
    "\n",
    "Use the code cell (or multiple code cells, if necessary) to implement the first step of your project."
   ]
  },
  {
   "cell_type": "markdown",
   "metadata": {
    "deletable": true,
    "editable": true
   },
   "source": [
    "### Model Architecture"
   ]
  },
  {
   "cell_type": "markdown",
   "metadata": {
    "deletable": true,
    "editable": true
   },
   "source": [
    "### 3.1 Preprocessing the image"
   ]
  },
  {
   "cell_type": "markdown",
   "metadata": {
    "deletable": true,
    "editable": true
   },
   "source": [
    "### 3.1.1 Normalizing Functions"
   ]
  },
  {
   "cell_type": "code",
   "execution_count": 4,
   "metadata": {
    "collapsed": false,
    "deletable": true,
    "editable": true
   },
   "outputs": [
    {
     "data": {
      "image/png": "[encoded data removed]",
      "text/plain": [
       "<matplotlib.figure.Figure at 0x124ebf5c0>"
      ]
     },
     "metadata": {},
     "output_type": "display_data"
    },
    {
     "name": "stdout",
     "output_type": "stream",
     "text": [
      "(32, 32, 3)\n"
     ]
    }
   ],
   "source": [
    "# Implement Min-Max scaling for grayscale image data\n",
    "def normalize_grayscale(image_data):\n",
    "    \"\"\"\n",
    "    Normalize the image data with Min-Max scaling to a range of [0.1, 0.9]\n",
    "    :param image_data: The image data to be normalized\n",
    "    :return: Normalized image data\n",
    "    \"\"\"\n",
    "    a = 0.1\n",
    "    b = 0.9\n",
    "    grayscale_min = 0\n",
    "    grayscale_max = 255\n",
    "    #print(\"Image Data\")\n",
    "    #print(image_data)\n",
    "    normalized_grayscale_image = a + ( ( (image_data - grayscale_min)*(b - a) )/( grayscale_max - grayscale_min ))\n",
    "    #print(\"Normalized Grayscale Image\")\n",
    "    return normalized_grayscale_image\n",
    "    \n",
    "def normalize(image_data):\n",
    "    #print(\"Image Data\")\n",
    "    #print(image_data)\n",
    "    normalizedOutput = (image_data - 128)/128\n",
    "    #print(\"Normalized Image Data\")\n",
    "    #print(normalizedOutput)\n",
    "    return normalizedOutput\n",
    "\n",
    "normalized_image = normalize_grayscale(image)\n",
    "plt.imshow(normalized_image)\n",
    "plt.show()\n",
    "print(normalized_image.shape)"
   ]
  },
  {
   "cell_type": "markdown",
   "metadata": {},
   "source": [
    "### 3.1.2 Flipping Image"
   ]
  },
  {
   "cell_type": "code",
   "execution_count": 5,
   "metadata": {
    "collapsed": false
   },
   "outputs": [
    {
     "data": {
      "image/png": "[encoded data removed]",
      "text/plain": [
       "<matplotlib.figure.Figure at 0x124ec3400>"
      ]
     },
     "metadata": {},
     "output_type": "display_data"
    },
    {
     "name": "stdout",
     "output_type": "stream",
     "text": [
      "(32, 32, 3)\n"
     ]
    }
   ],
   "source": [
    "def flipImage(image):\n",
    "    flipped_image = np.fliplr(image)\n",
    "    return flipped_image\n",
    "\n",
    "flipped_image = flipImage(image)\n",
    "plt.imshow(flipped_image)\n",
    "plt.show()\n",
    "print(flipped_image.shape)"
   ]
  },
  {
   "cell_type": "code",
   "execution_count": 6,
   "metadata": {
    "collapsed": false,
    "deletable": true,
    "editable": true
   },
   "outputs": [],
   "source": [
    "# Shuffling the data\n",
    "from sklearn.utils import shuffle\n",
    "X_train, y_train = shuffle (X_train, y_train)"
   ]
  },
  {
   "cell_type": "code",
   "execution_count": 7,
   "metadata": {
    "collapsed": false,
    "deletable": true,
    "editable": true
   },
   "outputs": [
    {
     "name": "stdout",
     "output_type": "stream",
     "text": [
      "Summary statistics of the traffic signs dataset\n",
      "\n",
      "Number of training examples = 34799\n",
      "Number of testing examples = 12630\n",
      "Number of validation examples = 4410\n",
      "Image data shape = (32, 32, 3)\n",
      "Number of classes = 43\n"
     ]
    }
   ],
   "source": [
    "# Normalize training data\n",
    "X_train = normalize_grayscale(X_train)\n",
    "X_test = normalize_grayscale(X_test)\n",
    "X_valid = normalize_grayscale(X_valid)\n",
    "\n",
    "#X_train = flipImage(X_train)\n",
    "#X_test = flipImage(X_test)\n",
    "#X_valid = flipImage(X_valid)\n",
    "\n",
    "getDatasetInfo()"
   ]
  },
  {
   "cell_type": "markdown",
   "metadata": {
    "deletable": true,
    "editable": true
   },
   "source": [
    "### Setup TensorFlow"
   ]
  },
  {
   "cell_type": "code",
   "execution_count": 8,
   "metadata": {
    "collapsed": true,
    "deletable": true,
    "editable": true
   },
   "outputs": [],
   "source": [
    "import tensorflow as tf\n",
    "\n",
    "EPOCHS = 100\n",
    "BATCH_SIZE = 150\n",
    "keep_prob = 0.9 #dropout"
   ]
  },
  {
   "cell_type": "code",
   "execution_count": 9,
   "metadata": {
    "collapsed": false,
    "deletable": true,
    "editable": true
   },
   "outputs": [],
   "source": [
    "from tensorflow.contrib.layers import flatten\n",
    "\n",
    "def LeNet(x):    \n",
    "    # Arguments used for tf.truncated_normal, randomly defines variables for the weights and biases for each layer\n",
    "    mu = 0\n",
    "    sigma = 0.1\n",
    "    \n",
    "    # Layer 1: Convolutional. Input = 32x32x3. Output = 28x28x6.\n",
    "    conv1_W = tf.Variable(tf.truncated_normal(shape=(5, 5, 3, 6), mean = mu, stddev = sigma))\n",
    "    conv1_b = tf.Variable(tf.zeros(6))\n",
    "    conv1   = tf.nn.conv2d(x, conv1_W, strides=[1, 1, 1, 1], padding='VALID') + conv1_b\n",
    "    print(\"ConvNet 1: \", conv1)\n",
    "    \n",
    "    # Activation.\n",
    "    conv1 = tf.nn.relu(conv1)\n",
    "\n",
    "    # Pooling. Input = 28x28x6. Output = 14x14x6.\n",
    "    conv1 = tf.nn.max_pool(conv1, ksize=[1, 2, 2, 1], strides=[1, 2, 2, 1], padding='VALID')\n",
    "    conv1 = tf.nn.dropout(conv1, keep_prob)\n",
    "\n",
    "    # Layer 2: Convolutional. Output = 10x10x16.\n",
    "    conv2_W = tf.Variable(tf.truncated_normal(shape=(5, 5, 6, 16), mean = mu, stddev = sigma))\n",
    "    conv2_b = tf.Variable(tf.zeros(16))\n",
    "    conv2   = tf.nn.conv2d(conv1, conv2_W, strides=[1, 1, 1, 1], padding='VALID') + conv2_b\n",
    "    print(\"ConvNet 2: \", conv2)\n",
    "    \n",
    "    # Activation.\n",
    "    conv2 = tf.nn.relu(conv2)\n",
    "\n",
    "    # Pooling. Input = 10x10x16. Output = 5x5x16.\n",
    "    conv2 = tf.nn.max_pool(conv2, ksize=[1, 2, 2, 1], strides=[1, 2, 2, 1], padding='VALID')\n",
    "    conv2 = tf.nn.dropout(conv2, keep_prob)\n",
    "    \n",
    "    # Flatten. Input = 5x5x16. Output = 400.\n",
    "    fc0   = flatten(conv2)\n",
    "    print(\"Fully Connected 0: \", fc0)\n",
    "    \n",
    "    # Layer 3: Fully Connected. Input = 400. Output = 120.\n",
    "    fc1_W = tf.Variable(tf.truncated_normal(shape=(400, 120), mean = mu, stddev = sigma))\n",
    "    fc1_b = tf.Variable(tf.zeros(120))\n",
    "    fc1   = tf.matmul(fc0, fc1_W) + fc1_b\n",
    "    fc1 = tf.nn.dropout(fc1, keep_prob) #keep_prob should be set to one for validation accuracy\n",
    "    \n",
    "    # Activation.\n",
    "    fc1    = tf.nn.relu(fc1)\n",
    "    print(\"Fully Connected 1: \", fc1)\n",
    "\n",
    "    # Layer 4: Fully Connected. Input = 120. Output = 84.\n",
    "    fc2_W  = tf.Variable(tf.truncated_normal(shape=(120, 84), mean = mu, stddev = sigma))\n",
    "    fc2_b  = tf.Variable(tf.zeros(84))\n",
    "    fc2    = tf.matmul(fc1, fc2_W) + fc2_b\n",
    "    fc2 = tf.nn.dropout(fc2, keep_prob)\n",
    "    \n",
    "    # Activation.\n",
    "    fc2    = tf.nn.relu(fc2)\n",
    "    print(\"Fully Connected 2: \", fc2)\n",
    "    \n",
    "    # Layer 5: Fully Connected. Input = 84. Output = 10.\n",
    "    fc3_W  = tf.Variable(tf.truncated_normal(shape=(84, 43), mean = mu, stddev = sigma))\n",
    "    fc3_b  = tf.Variable(tf.zeros(43))\n",
    "    logits = tf.matmul(fc2, fc3_W) + fc3_b\n",
    "    print(\"Logits: \", logits)\n",
    "    \n",
    "    return logits"
   ]
  },
  {
   "cell_type": "markdown",
   "metadata": {
    "deletable": true,
    "editable": true
   },
   "source": [
    "### Features and Labels "
   ]
  },
  {
   "cell_type": "markdown",
   "metadata": {
    "deletable": true,
    "editable": true
   },
   "source": [
    "x is a placeholder for a batch of input images. y is a placeholder for a batch of output labels."
   ]
  },
  {
   "cell_type": "code",
   "execution_count": 10,
   "metadata": {
    "collapsed": false,
    "deletable": true,
    "editable": true
   },
   "outputs": [],
   "source": [
    "x = tf.placeholder(tf.float32, (None, 32, 32, 3))\n",
    "y = tf.placeholder(tf.int32, (None))\n",
    "one_hot_y = tf.one_hot(y, 43)"
   ]
  },
  {
   "cell_type": "markdown",
   "metadata": {
    "deletable": true,
    "editable": true
   },
   "source": [
    "### Train, Validate and Test the Model"
   ]
  },
  {
   "cell_type": "markdown",
   "metadata": {
    "deletable": true,
    "editable": true
   },
   "source": [
    "A validation set can be used to assess how well the model is performing. A low accuracy on the training and validation\n",
    "sets imply underfitting. A high accuracy on the training set but low accuracy on the validation set implies overfitting."
   ]
  },
  {
   "cell_type": "code",
   "execution_count": 11,
   "metadata": {
    "collapsed": true,
    "deletable": true,
    "editable": true
   },
   "outputs": [],
   "source": [
    "### Train your model here.\n",
    "### Calculate and report the accuracy on the training and validation set.\n",
    "### Once a final model architecture is selected, \n",
    "### the accuracy on the test set should be calculated and reported as well."
   ]
  },
  {
   "cell_type": "markdown",
   "metadata": {
    "deletable": true,
    "editable": true
   },
   "source": [
    "### Training Pipeline"
   ]
  },
  {
   "cell_type": "code",
   "execution_count": 12,
   "metadata": {
    "collapsed": false,
    "deletable": true,
    "editable": true
   },
   "outputs": [
    {
     "name": "stdout",
     "output_type": "stream",
     "text": [
      "ConvNet 1:  Tensor(\"add:0\", shape=(?, 28, 28, 6), dtype=float32)\n",
      "ConvNet 2:  Tensor(\"add_1:0\", shape=(?, 10, 10, 16), dtype=float32)\n",
      "Fully Connected 0:  Tensor(\"Flatten/Reshape:0\", shape=(?, 400), dtype=float32)\n",
      "Fully Connected 1:  Tensor(\"Relu_2:0\", shape=(?, 120), dtype=float32)\n",
      "Fully Connected 2:  Tensor(\"Relu_3:0\", shape=(?, 84), dtype=float32)\n",
      "Logits:  Tensor(\"add_4:0\", shape=(?, 43), dtype=float32)\n"
     ]
    }
   ],
   "source": [
    "rate_of_learning = 0.001\n",
    "\n",
    "logits = LeNet(x)\n",
    "cross_entropy = tf.nn.softmax_cross_entropy_with_logits(labels=one_hot_y, logits=logits)\n",
    "loss_operation = tf.reduce_mean(cross_entropy)\n",
    "optimizer = tf.train.AdamOptimizer(learning_rate = rate_of_learning)\n",
    "training_operation = optimizer.minimize(loss_operation)"
   ]
  },
  {
   "cell_type": "markdown",
   "metadata": {
    "deletable": true,
    "editable": true
   },
   "source": [
    "### Evaluating the Model"
   ]
  },
  {
   "cell_type": "code",
   "execution_count": 13,
   "metadata": {
    "collapsed": false,
    "deletable": true,
    "editable": true
   },
   "outputs": [],
   "source": [
    "correct_prediction = tf.equal(tf.argmax(logits, 1), tf.argmax(one_hot_y, 1))\n",
    "accuracy_operation = tf.reduce_mean(tf.cast(correct_prediction, tf.float32))\n",
    "saver = tf.train.Saver()\n",
    "\n",
    "def evaluate(X_data, y_data):\n",
    "    num_examples = len(X_data)\n",
    "    total_accuracy = 0\n",
    "    sess = tf.get_default_session()\n",
    "    for offset in range(0, num_examples, BATCH_SIZE):\n",
    "        batch_x, batch_y = X_data[offset:offset+BATCH_SIZE], y_data[offset:offset+BATCH_SIZE]\n",
    "        accuracy = sess.run(accuracy_operation, feed_dict={x: batch_x, y: batch_y})\n",
    "        total_accuracy += (accuracy * len(batch_x))\n",
    "    return total_accuracy / num_examples"
   ]
  },
  {
   "cell_type": "markdown",
   "metadata": {
    "deletable": true,
    "editable": true
   },
   "source": [
    "## Train the Model\n",
    "Run the training data through the training pipeline to train the model. Before each epoch, the training set is shuffled.\n",
    "After each epoch, the loss is measured and the accuracy of the validation set determined. \n",
    "The model is the saved for future runs. "
   ]
  },
  {
   "cell_type": "code",
   "execution_count": 14,
   "metadata": {
    "collapsed": false,
    "deletable": true,
    "editable": true
   },
   "outputs": [
    {
     "name": "stdout",
     "output_type": "stream",
     "text": [
      "Training...\n",
      "\n",
      "EPOCH 1 ...\n",
      "Validation Accuracy = 0.435\n",
      "\n",
      "EPOCH 2 ...\n",
      "Validation Accuracy = 0.701\n",
      "\n",
      "EPOCH 3 ...\n",
      "Validation Accuracy = 0.762\n",
      "\n",
      "EPOCH 4 ...\n",
      "Validation Accuracy = 0.802\n",
      "\n",
      "EPOCH 5 ...\n",
      "Validation Accuracy = 0.824\n",
      "\n",
      "EPOCH 6 ...\n",
      "Validation Accuracy = 0.833\n",
      "\n",
      "EPOCH 7 ...\n",
      "Validation Accuracy = 0.849\n",
      "\n",
      "EPOCH 8 ...\n",
      "Validation Accuracy = 0.864\n",
      "\n",
      "EPOCH 9 ...\n",
      "Validation Accuracy = 0.877\n",
      "\n",
      "EPOCH 10 ...\n",
      "Validation Accuracy = 0.875\n",
      "\n",
      "EPOCH 11 ...\n",
      "Validation Accuracy = 0.877\n",
      "\n",
      "EPOCH 12 ...\n",
      "Validation Accuracy = 0.881\n",
      "\n",
      "EPOCH 13 ...\n",
      "Validation Accuracy = 0.890\n",
      "\n",
      "EPOCH 14 ...\n",
      "Validation Accuracy = 0.884\n",
      "\n",
      "EPOCH 15 ...\n",
      "Validation Accuracy = 0.894\n",
      "\n",
      "EPOCH 16 ...\n",
      "Validation Accuracy = 0.901\n",
      "\n",
      "EPOCH 17 ...\n",
      "Validation Accuracy = 0.901\n",
      "\n",
      "EPOCH 18 ...\n",
      "Validation Accuracy = 0.911\n",
      "\n",
      "EPOCH 19 ...\n",
      "Validation Accuracy = 0.907\n",
      "\n",
      "EPOCH 20 ...\n",
      "Validation Accuracy = 0.918\n",
      "\n",
      "EPOCH 21 ...\n",
      "Validation Accuracy = 0.910\n",
      "\n",
      "EPOCH 22 ...\n",
      "Validation Accuracy = 0.915\n",
      "\n",
      "EPOCH 23 ...\n",
      "Validation Accuracy = 0.912\n",
      "\n",
      "EPOCH 24 ...\n",
      "Validation Accuracy = 0.918\n",
      "\n",
      "EPOCH 25 ...\n",
      "Validation Accuracy = 0.915\n",
      "\n",
      "EPOCH 26 ...\n",
      "Validation Accuracy = 0.909\n",
      "\n",
      "EPOCH 27 ...\n",
      "Validation Accuracy = 0.917\n",
      "\n",
      "EPOCH 28 ...\n",
      "Validation Accuracy = 0.921\n",
      "\n",
      "EPOCH 29 ...\n",
      "Validation Accuracy = 0.930\n",
      "\n",
      "EPOCH 30 ...\n",
      "Validation Accuracy = 0.927\n",
      "\n",
      "EPOCH 31 ...\n",
      "Validation Accuracy = 0.930\n",
      "\n",
      "EPOCH 32 ...\n",
      "Validation Accuracy = 0.922\n",
      "\n",
      "EPOCH 33 ...\n",
      "Validation Accuracy = 0.920\n",
      "\n",
      "EPOCH 34 ...\n",
      "Validation Accuracy = 0.926\n",
      "\n",
      "EPOCH 35 ...\n",
      "Validation Accuracy = 0.925\n",
      "\n",
      "EPOCH 36 ...\n",
      "Validation Accuracy = 0.924\n",
      "\n",
      "EPOCH 37 ...\n",
      "Validation Accuracy = 0.930\n",
      "\n",
      "EPOCH 38 ...\n",
      "Validation Accuracy = 0.927\n",
      "\n",
      "EPOCH 39 ...\n",
      "Validation Accuracy = 0.924\n",
      "\n",
      "EPOCH 40 ...\n",
      "Validation Accuracy = 0.929\n",
      "\n",
      "EPOCH 41 ...\n",
      "Validation Accuracy = 0.926\n",
      "\n",
      "EPOCH 42 ...\n",
      "Validation Accuracy = 0.917\n",
      "\n",
      "EPOCH 43 ...\n",
      "Validation Accuracy = 0.919\n",
      "\n",
      "EPOCH 44 ...\n",
      "Validation Accuracy = 0.920\n",
      "\n",
      "EPOCH 45 ...\n",
      "Validation Accuracy = 0.923\n",
      "\n",
      "EPOCH 46 ...\n",
      "Validation Accuracy = 0.935\n",
      "\n",
      "EPOCH 47 ...\n",
      "Validation Accuracy = 0.930\n",
      "\n",
      "EPOCH 48 ...\n",
      "Validation Accuracy = 0.930\n",
      "\n",
      "EPOCH 49 ...\n",
      "Validation Accuracy = 0.931\n",
      "\n",
      "EPOCH 50 ...\n",
      "Validation Accuracy = 0.937\n",
      "\n",
      "EPOCH 51 ...\n",
      "Validation Accuracy = 0.929\n",
      "\n",
      "EPOCH 52 ...\n",
      "Validation Accuracy = 0.924\n",
      "\n",
      "EPOCH 53 ...\n",
      "Validation Accuracy = 0.928\n",
      "\n",
      "EPOCH 54 ...\n",
      "Validation Accuracy = 0.932\n",
      "\n",
      "EPOCH 55 ...\n",
      "Validation Accuracy = 0.932\n",
      "\n",
      "EPOCH 56 ...\n",
      "Validation Accuracy = 0.928\n",
      "\n",
      "EPOCH 57 ...\n",
      "Validation Accuracy = 0.930\n",
      "\n",
      "EPOCH 58 ...\n",
      "Validation Accuracy = 0.932\n",
      "\n",
      "EPOCH 59 ...\n",
      "Validation Accuracy = 0.934\n",
      "\n",
      "EPOCH 60 ...\n",
      "Validation Accuracy = 0.928\n",
      "\n",
      "EPOCH 61 ...\n",
      "Validation Accuracy = 0.932\n",
      "\n",
      "EPOCH 62 ...\n",
      "Validation Accuracy = 0.932\n",
      "\n",
      "EPOCH 63 ...\n",
      "Validation Accuracy = 0.930\n",
      "\n",
      "EPOCH 64 ...\n",
      "Validation Accuracy = 0.930\n",
      "\n",
      "EPOCH 65 ...\n",
      "Validation Accuracy = 0.929\n",
      "\n",
      "EPOCH 66 ...\n",
      "Validation Accuracy = 0.933\n",
      "\n",
      "EPOCH 67 ...\n",
      "Validation Accuracy = 0.930\n",
      "\n",
      "EPOCH 68 ...\n",
      "Validation Accuracy = 0.931\n",
      "\n",
      "EPOCH 69 ...\n",
      "Validation Accuracy = 0.938\n",
      "\n",
      "EPOCH 70 ...\n",
      "Validation Accuracy = 0.933\n",
      "\n",
      "EPOCH 71 ...\n",
      "Validation Accuracy = 0.939\n",
      "\n",
      "EPOCH 72 ...\n",
      "Validation Accuracy = 0.938\n",
      "\n",
      "EPOCH 73 ...\n",
      "Validation Accuracy = 0.932\n",
      "\n",
      "EPOCH 74 ...\n",
      "Validation Accuracy = 0.933\n",
      "\n",
      "EPOCH 75 ...\n",
      "Validation Accuracy = 0.935\n",
      "\n",
      "EPOCH 76 ...\n",
      "Validation Accuracy = 0.936\n",
      "\n",
      "EPOCH 77 ...\n",
      "Validation Accuracy = 0.930\n",
      "\n",
      "EPOCH 78 ...\n",
      "Validation Accuracy = 0.929\n",
      "\n",
      "EPOCH 79 ...\n",
      "Validation Accuracy = 0.932\n",
      "\n",
      "EPOCH 80 ...\n",
      "Validation Accuracy = 0.939\n",
      "\n",
      "EPOCH 81 ...\n",
      "Validation Accuracy = 0.936\n",
      "\n",
      "EPOCH 82 ...\n",
      "Validation Accuracy = 0.935\n",
      "\n",
      "EPOCH 83 ...\n",
      "Validation Accuracy = 0.938\n",
      "\n",
      "EPOCH 84 ...\n",
      "Validation Accuracy = 0.941\n",
      "\n",
      "EPOCH 85 ...\n",
      "Validation Accuracy = 0.940\n",
      "\n",
      "EPOCH 86 ...\n",
      "Validation Accuracy = 0.939\n",
      "\n",
      "EPOCH 87 ...\n",
      "Validation Accuracy = 0.933\n",
      "\n",
      "EPOCH 88 ...\n",
      "Validation Accuracy = 0.937\n",
      "\n",
      "EPOCH 89 ...\n",
      "Validation Accuracy = 0.943\n",
      "\n",
      "EPOCH 90 ...\n",
      "Validation Accuracy = 0.938\n",
      "\n",
      "EPOCH 91 ...\n",
      "Validation Accuracy = 0.937\n",
      "\n",
      "EPOCH 92 ...\n",
      "Validation Accuracy = 0.936\n",
      "\n",
      "EPOCH 93 ...\n",
      "Validation Accuracy = 0.937\n",
      "\n",
      "EPOCH 94 ...\n",
      "Validation Accuracy = 0.932\n",
      "\n",
      "EPOCH 95 ...\n",
      "Validation Accuracy = 0.934\n",
      "\n",
      "EPOCH 96 ...\n",
      "Validation Accuracy = 0.938\n",
      "\n",
      "EPOCH 97 ...\n",
      "Validation Accuracy = 0.937\n",
      "\n",
      "EPOCH 98 ...\n",
      "Validation Accuracy = 0.935\n",
      "\n",
      "EPOCH 99 ...\n",
      "Validation Accuracy = 0.931\n",
      "\n",
      "EPOCH 100 ...\n",
      "Validation Accuracy = 0.932\n",
      "\n",
      "Model saved\n"
     ]
    }
   ],
   "source": [
    "training_save_file = './lenet.ckpt'\n",
    "\n",
    "with tf.Session() as sess:\n",
    "    sess.run(tf.global_variables_initializer())\n",
    "    num_examples = len(X_train)\n",
    "    \n",
    "    print(\"Training...\")\n",
    "    print()\n",
    "    for i in range(EPOCHS):\n",
    "        X_train, y_train = shuffle(X_train, y_train)\n",
    "        for offset in range(0, num_examples, BATCH_SIZE):\n",
    "            end = offset + BATCH_SIZE\n",
    "            batch_x, batch_y = X_train[offset:end], y_train[offset:end]\n",
    "            sess.run(training_operation, feed_dict={x: batch_x, y: batch_y})\n",
    "        \n",
    "        #training_accuracy = evaluate(X_train, y_train)\n",
    "        #testing_accuracy = evaluate(X_test, y_test)        \n",
    "        validation_accuracy = evaluate(X_valid, y_valid)\n",
    "        print(\"EPOCH {} ...\".format(i+1))\n",
    "        #print(\"Training Accuracy = {:.3f}\".format(training_accuracy))\n",
    "        #print(\"Test Accuracy = {:.3f}\".format(test_accuracy))\n",
    "        print(\"Validation Accuracy = {:.3f}\".format(validation_accuracy))\n",
    "        print()\n",
    "        \n",
    "    saver.save(sess, training_save_file)\n",
    "    print(\"Model saved\")"
   ]
  },
  {
   "cell_type": "markdown",
   "metadata": {
    "deletable": true,
    "editable": true
   },
   "source": [
    "### Evaluating Performance of the Model"
   ]
  },
  {
   "cell_type": "code",
   "execution_count": 15,
   "metadata": {
    "collapsed": false,
    "deletable": true,
    "editable": true
   },
   "outputs": [
    {
     "name": "stdout",
     "output_type": "stream",
     "text": [
      "Training Accuracy = 0.993\n",
      "Test Accuracy = 0.918\n",
      "Validation Accuracy = 0.933\n"
     ]
    }
   ],
   "source": [
    "with tf.Session() as sess:\n",
    "    saver.restore(sess, tf.train.latest_checkpoint('.'))\n",
    "\n",
    "    training_accuracy = evaluate(X_train, y_train)\n",
    "    test_accuracy = evaluate(X_test, y_test)\n",
    "    validation_accuracy = evaluate(X_valid, y_valid)\n",
    "    \n",
    "    print(\"Training Accuracy = {:.3f}\".format(training_accuracy))\n",
    "    print(\"Test Accuracy = {:.3f}\".format(test_accuracy))\n",
    "    print(\"Validation Accuracy = {:.3f}\".format(validation_accuracy))"
   ]
  },
  {
   "cell_type": "markdown",
   "metadata": {
    "deletable": true,
    "editable": true
   },
   "source": [
    "## Step 3: Test a Model on New Images\n",
    "\n",
    "To give yourself more insight into how your model is working, download at least five pictures of German traffic signs from the web and use your model to predict the traffic sign type.\n",
    "\n",
    "You may find `signnames.csv` useful as it contains mappings from the class id (integer) to the actual sign name."
   ]
  },
  {
   "cell_type": "markdown",
   "metadata": {
    "deletable": true,
    "editable": true
   },
   "source": [
    "### Load and Output the Images"
   ]
  },
  {
   "cell_type": "code",
   "execution_count": 51,
   "metadata": {
    "collapsed": false,
    "deletable": true,
    "editable": true,
    "scrolled": false
   },
   "outputs": [
    {
     "name": "stdout",
     "output_type": "stream",
     "text": [
      "(32, 32, 4)\n"
     ]
    },
    {
     "data": {
      "image/png": "[encoded data removed]",
      "text/plain": [
       "<matplotlib.figure.Figure at 0x114e02f28>"
      ]
     },
     "metadata": {},
     "output_type": "display_data"
    },
    {
     "name": "stdout",
     "output_type": "stream",
     "text": [
      "(32, 32, 4)\n"
     ]
    },
    {
     "data": {
      "image/png": "[encoded data removed]",
      "text/plain": [
       "<matplotlib.figure.Figure at 0x10f16ebe0>"
      ]
     },
     "metadata": {},
     "output_type": "display_data"
    },
    {
     "name": "stdout",
     "output_type": "stream",
     "text": [
      "(32, 32, 4)\n"
     ]
    },
    {
     "data": {
      "image/png": "[encoded data removed]",
      "text/plain": [
       "<matplotlib.figure.Figure at 0x18a005e10>"
      ]
     },
     "metadata": {},
     "output_type": "display_data"
    },
    {
     "name": "stdout",
     "output_type": "stream",
     "text": [
      "(32, 32, 4)\n"
     ]
    },
    {
     "data": {
      "image/png": "[encoded data removed]",
      "text/plain": [
       "<matplotlib.figure.Figure at 0x10f70ebe0>"
      ]
     },
     "metadata": {},
     "output_type": "display_data"
    },
    {
     "name": "stdout",
     "output_type": "stream",
     "text": [
      "(32, 32, 4)\n"
     ]
    },
    {
     "data": {
      "image/png": "[encoded data removed]",
      "text/plain": [
       "<matplotlib.figure.Figure at 0x10f7cfcf8>"
      ]
     },
     "metadata": {},
     "output_type": "display_data"
    },
    {
     "name": "stdout",
     "output_type": "stream",
     "text": [
      "(32, 32, 4)\n"
     ]
    },
    {
     "data": {
      "image/png": "[encoded data removed]",
      "text/plain": [
       "<matplotlib.figure.Figure at 0x1135d5f28>"
      ]
     },
     "metadata": {},
     "output_type": "display_data"
    },
    {
     "name": "stdout",
     "output_type": "stream",
     "text": [
      "(6, 32, 32, 3)\n"
     ]
    }
   ],
   "source": [
    "import cv2\n",
    "import os \n",
    "import matplotlib.image as mpimage\n",
    "\n",
    "directory = \"german-traffic-signs/\"\n",
    "new_images = os.listdir(directory)\n",
    "# Retrieve only images with valid image extensions\n",
    "image_extenstions = ['jpg', 'bmp', 'png', 'gif']\n",
    "new_images = [imgname for imgname in os.listdir(directory)\n",
    "              if any(imgname.endswith(ext) for ext in image_extenstions)]\n",
    "\n",
    "# Show the images, add to a list to process for classifying\n",
    "new_images_data = []\n",
    "\n",
    "for image in new_images:\n",
    "    imagePath = directory + image\n",
    "    image = mpimage.imread(imagePath)\n",
    "    \n",
    "    print(image.shape)\n",
    "    # Remove alpha channel from image so it only has 3 RGB channels\n",
    "    # Length of grayscale images is 2 i.e., len(image.shape) == 2\n",
    "    if len(image.shape) > 2 and image.shape[2] == 4:\n",
    "    #convert the image from RGBA2RGB\n",
    "        image = cv2.cvtColor(image, cv2.COLOR_BGRA2BGR)\n",
    "    new_images_data.append(image)\n",
    "    plt.imshow(image)\n",
    "    plt.colorbar()\n",
    "    plt.show()\n",
    "\n",
    "# Convert the new_images data to match the LeNet training dataset image shape (32 x 32 x 3)\n",
    "#print(new_images_data)\n",
    "new_images_data = np.array(new_images_data)\n",
    "print(new_images_data.shape)"
   ]
  },
  {
   "cell_type": "markdown",
   "metadata": {
    "deletable": true,
    "editable": true
   },
   "source": [
    "### Predict the Sign Type for Each Image"
   ]
  },
  {
   "cell_type": "code",
   "execution_count": 52,
   "metadata": {
    "collapsed": false,
    "deletable": true,
    "editable": true
   },
   "outputs": [
    {
     "name": "stdout",
     "output_type": "stream",
     "text": [
      "(0, b'Speed limit (20km/h)')\n",
      "(1, b'Speed limit (30km/h)')\n",
      "(2, b'Speed limit (50km/h)')\n",
      "(3, b'Speed limit (60km/h)')\n",
      "(4, b'Speed limit (70km/h)')\n",
      "(5, b'Speed limit (80km/h)')\n",
      "(6, b'End of speed limit (80km/h)')\n",
      "(7, b'Speed limit (100km/h)')\n",
      "(8, b'Speed limit (120km/h)')\n",
      "(9, b'No passing')\n",
      "(10, b'No passing for vehicles over 3.5 metric tons')\n",
      "(11, b'Right-of-way at the next intersection')\n",
      "(12, b'Priority road')\n",
      "(13, b'Yield')\n",
      "(14, b'Stop')\n",
      "(15, b'No vehicles')\n",
      "(16, b'Vehicles over 3.5 metric tons prohibited')\n",
      "(17, b'No entry')\n",
      "(18, b'General caution')\n",
      "(19, b'Dangerous curve to the left')\n",
      "(20, b'Dangerous curve to the right')\n",
      "(21, b'Double curve')\n",
      "(22, b'Bumpy road')\n",
      "(23, b'Slippery road')\n",
      "(24, b'Road narrows on the right')\n",
      "(25, b'Road work')\n",
      "(26, b'Traffic signals')\n",
      "(27, b'Pedestrians')\n",
      "(28, b'Children crossing')\n",
      "(29, b'Bicycles crossing')\n",
      "(30, b'Beware of ice/snow')\n",
      "(31, b'Wild animals crossing')\n",
      "(32, b'End of all speed and passing limits')\n",
      "(33, b'Turn right ahead')\n",
      "(34, b'Turn left ahead')\n",
      "(35, b'Ahead only')\n",
      "(36, b'Go straight or right')\n",
      "(37, b'Go straight or left')\n",
      "(38, b'Keep right')\n",
      "(39, b'Keep left')\n",
      "(40, b'Roundabout mandatory')\n",
      "(41, b'End of no passing')\n",
      "(42, b'End of no passing by vehicles over 3.5 metric tons')\n"
     ]
    }
   ],
   "source": [
    "signNames = np.genfromtxt(\"signnames.csv\", dtype=None, delimiter=\",\", names=True)\n",
    "#signName = [name[1].decode('utf-8') for name in signNames]\n",
    "for i in range(0, len(signNames)):\n",
    "    print(signNames[i])"
   ]
  },
  {
   "cell_type": "code",
   "execution_count": 53,
   "metadata": {
    "collapsed": false,
    "deletable": true,
    "editable": true
   },
   "outputs": [
    {
     "name": "stdout",
     "output_type": "stream",
     "text": [
      "(6, 32, 32, 3)\n"
     ]
    }
   ],
   "source": [
    "# Preprocess new_images by normalizing\n",
    "new_images_data = normalize_grayscale(new_images_data)\n",
    "print(new_images_data.shape)"
   ]
  },
  {
   "cell_type": "code",
   "execution_count": 55,
   "metadata": {
    "collapsed": false,
    "deletable": true,
    "editable": true
   },
   "outputs": [
    {
     "name": "stdout",
     "output_type": "stream",
     "text": [
      "[[-14.97333622  -5.89169168  -7.53392982   3.34016252 -19.42725563\n",
      "    2.50475073 -10.63559628  -8.66358757  -6.27891827  -6.27930117\n",
      "  -12.66362381  -2.61146903  -3.50598001  -3.6780386  -11.52139854\n",
      "   -7.94021988 -15.12715054 -12.23885632  -4.17908144 -14.23377228\n",
      "   -6.34340906 -14.67193699 -17.6199131  -11.1149683  -17.59391785\n",
      "   -7.98273516 -14.00596905 -14.08745766  -4.0502615  -11.2374239\n",
      "   -3.23368406 -14.13599205  -2.43184781 -16.91756821  -9.04524136\n",
      "   -7.72005272 -10.61862564 -26.24948692  -5.01314449 -25.65127563\n",
      "  -18.91209793  -9.60123253 -11.93048477]\n",
      " [ -8.597332     0.3867785   -6.58529758   2.67438078  -8.88545418\n",
      "   -0.97532713  -6.17954636  -5.22900295  -5.59259748  -6.44268179\n",
      "  -10.82043266  -6.14779186  -3.03679872  -0.90575981  -3.68182397\n",
      "   -7.95844936  -9.25977135  -5.24047661  -5.74785233  -9.91099453\n",
      "  -11.80425644 -11.42509651 -16.15864754 -12.55391121 -18.38013458\n",
      "   -7.27523565 -10.35163689 -13.80836296  -6.78624058 -10.05356884\n",
      "   -3.98086882 -12.24418736  -0.31768814 -10.98882198  -9.00973797\n",
      "  -10.04771328  -7.24395275 -23.48805237  -5.57393217 -16.95069122\n",
      "  -13.91514587  -8.13894749 -12.12064934]\n",
      " [-10.09212589  -1.61671388  -8.52098656  -5.2539115  -10.15322208\n",
      "   -6.63393402 -17.24151421 -15.36861229  -9.81209183 -12.40949631\n",
      "  -16.43779755  -2.47441506  -1.73684525  -9.38581085  -9.12850666\n",
      "   -8.60203075 -27.91896248  -7.46387577   2.40076065 -10.76945496\n",
      "   -9.78065491  -5.93483829 -17.87736511 -14.79481888 -12.17823219\n",
      "   -4.92943239  -6.49343634 -12.19511318 -10.0323267   -6.94346905\n",
      "   -4.76919556  -2.52726245  -9.70578575  -9.04549408 -14.10581589\n",
      "  -12.86488438  -8.00204182 -20.55023003  -4.80235434 -13.22628117\n",
      "  -14.77506638 -15.00070095 -20.21175194]\n",
      " [-16.33649445  -6.93738317  -8.88618851   1.22854066 -18.96867752\n",
      "   -1.01479995 -16.95075226 -11.68575382  -6.12166309  -9.10161018\n",
      "  -15.90196037  -5.1729188   -6.68351746  -5.9360404  -14.62313843\n",
      "  -11.36789894 -21.04930878 -10.45126152  -3.02782989 -11.48103046\n",
      "   -7.69884872 -13.93515205 -20.1908226  -14.08054256 -20.82845879\n",
      "   -9.46099663 -15.76494694 -18.37823296  -7.08649397 -10.63176632\n",
      "   -5.07882309  -8.0926075   -9.08873272 -15.88905811 -13.00719547\n",
      "  -11.60609818 -11.33465862 -29.20631218  -6.37175131 -21.99673271\n",
      "  -19.2289505  -14.49387074 -22.31339836]\n",
      " [-18.74948502  -4.71699476  -6.0634985    2.48718977 -14.00742245\n",
      "   -0.16662115 -13.92279339 -11.14236069 -10.19882679 -14.1561842\n",
      "   -8.89910793  -4.61389303  -4.45153856  -6.99843979 -11.33743572\n",
      "  -13.04385662 -24.59881973 -11.9513855   -4.54212475 -12.72888947\n",
      "  -10.07555771  -8.6291399  -22.78792572 -14.87554932 -22.70505142\n",
      "   -4.49299908 -15.51520824 -21.94680977 -14.83176994  -8.43303776\n",
      "   -8.01044178  -3.81624198 -11.14852524 -11.76834106 -13.42452812\n",
      "  -11.30434608 -10.59737778 -28.05205727  -7.3932848  -18.28348541\n",
      "  -16.84286118 -18.50042152 -14.95859241]\n",
      " [ -8.53367043  -1.99986982  -0.77525091   0.44922414  -6.51338768\n",
      "   -0.21478716 -10.87538528  -3.59803438  -2.64344072  -6.00478601\n",
      "   -7.7649684   -2.86344218  -1.96691835  -7.49829626  -9.07675648\n",
      "   -7.0990324  -12.42198086  -7.51683617  -4.31640625  -9.78577232\n",
      "   -8.45661068  -9.37764072 -18.35759163  -9.65500069 -14.09170437\n",
      "   -9.00656796  -8.46033192 -12.81142426  -9.1715498   -5.45888615\n",
      "   -4.93929958  -8.80106354  -4.0002656  -10.80606079 -12.88551903\n",
      "   -8.28654671 -11.45768642 -17.92263412  -7.84843159 -17.52618408\n",
      "   -6.83681488  -8.87606144  -8.44460011]]\n"
     ]
    }
   ],
   "source": [
    "# Testing the model on the new images\n",
    "probability_to_keep = tf.placeholder(tf.float32)\n",
    "with tf.Session() as sess:\n",
    "    saver.restore(sess, training_save_file)\n",
    "    new_images_classification = sess.run(logits, feed_dict={x: new_images_data, probability_to_keep : 1.0})\n",
    "print(new_images_classification)"
   ]
  },
  {
   "cell_type": "markdown",
   "metadata": {
    "deletable": true,
    "editable": true
   },
   "source": [
    "### Analyze Performance"
   ]
  },
  {
   "cell_type": "markdown",
   "metadata": {
    "deletable": true,
    "editable": true
   },
   "source": [
    "### Output Top 5 Softmax Probabilities For Each Image Found on the Web"
   ]
  },
  {
   "cell_type": "code",
   "execution_count": 57,
   "metadata": {
    "collapsed": false
   },
   "outputs": [
    {
     "name": "stdout",
     "output_type": "stream",
     "text": [
      "[[  7.70587061e-09   6.77532298e-05   1.31133984e-05   6.92266703e-01\n",
      "    8.96415789e-11   3.00233185e-01   5.89764511e-07   4.23751408e-06\n",
      "    4.60002120e-05   4.59825787e-05   7.76099540e-08   1.80099579e-03\n",
      "    7.36260321e-04   6.19879866e-04   2.43208973e-07   8.73505633e-06\n",
      "    6.60725386e-09   1.18683850e-07   3.75584088e-04   1.61439804e-08\n",
      "    4.31272383e-05   1.04164020e-08   5.46296453e-10   3.65165732e-07\n",
      "    5.60683722e-10   8.37146308e-06   2.02742090e-08   1.86876310e-08\n",
      "    4.27221588e-04   3.23078609e-07   9.66691819e-04   1.78022965e-08\n",
      "    2.15536682e-03   1.10268861e-09   2.89308355e-06   1.08863696e-05\n",
      "    5.99858595e-07   9.76454635e-14   1.63109173e-04   1.77603686e-13\n",
      "    1.50051249e-10   1.65919369e-06   1.61553245e-07]\n",
      " [  1.04830933e-05   8.36063623e-02   7.83980649e-05   8.23630333e-01\n",
      "    7.85886004e-06   2.14133374e-02   1.17630625e-04   3.04324145e-04\n",
      "    2.11557912e-04   9.04153931e-05   1.13503472e-06   1.21425990e-04\n",
      "    2.72520073e-03   2.29560435e-02   1.42977468e-03   1.98588041e-05\n",
      "    5.40500014e-06   3.00852378e-04   1.81135169e-04   2.81821099e-06\n",
      "    4.24365339e-07   6.20021751e-07   5.45320544e-09   2.00525207e-07\n",
      "    5.91387717e-10   3.93250084e-05   1.81386315e-06   5.71962353e-08\n",
      "    6.41264051e-05   2.44373587e-06   1.06021552e-03   2.73325838e-07\n",
      "    4.13326509e-02   9.59133331e-07   6.94039591e-06   2.45808724e-06\n",
      "    4.05746723e-05   3.57710584e-12   2.15543812e-04   2.46985610e-09\n",
      "    5.14034433e-08   1.65792080e-05   3.09265999e-07]\n",
      " [  3.56693340e-06   1.71048641e-02   1.71645406e-05   4.50302992e-04\n",
      "    3.35553136e-06   1.13284019e-04   2.80127099e-09   1.82282971e-08\n",
      "    4.71967724e-06   3.51458340e-07   6.25755714e-09   7.25479098e-03\n",
      "    1.51686659e-02   7.22842606e-06   9.34952459e-06   1.58283310e-05\n",
      "    6.45949087e-14   4.94002961e-05   9.50356841e-01   1.81190217e-06\n",
      "    4.87040597e-06   2.27919809e-04   1.48323032e-09   3.23550005e-08\n",
      "    4.42904991e-07   6.22908585e-04   1.30372442e-04   4.35491074e-07\n",
      "    3.78674008e-06   8.31264624e-05   7.31163134e-04   6.88134553e-03\n",
      "    5.24904681e-06   1.01587775e-05   6.44423892e-08   2.22895508e-07\n",
      "    2.88407809e-05   1.02423146e-10   7.07316212e-04   1.55291858e-07\n",
      "    3.30004468e-08   2.63346500e-08   1.43680318e-10]\n",
      " [  2.08783515e-08   2.52161146e-04   3.59188925e-05   8.87347877e-01\n",
      "    1.50159785e-09   9.41506922e-02   1.12960707e-08   2.18517971e-06\n",
      "    5.70086937e-04   2.89578638e-05   3.22412532e-08   1.47222879e-03\n",
      "    3.25035537e-04   6.86365995e-04   1.15823653e-07   3.00282341e-06\n",
      "    1.87476534e-10   7.50966137e-06   1.25769600e-02   2.68162103e-06\n",
      "    1.17754644e-04   2.30454901e-07   4.42367032e-10   1.99270801e-07\n",
      "    2.33808806e-10   2.02156152e-05   3.69756386e-08   2.71006950e-09\n",
      "    2.17230176e-04   6.26943120e-06   1.61748671e-03   7.94274820e-05\n",
      "    2.93331777e-05   3.26599050e-08   5.82897769e-07   2.36636197e-06\n",
      "    3.10431574e-06   5.37533275e-14   4.43944766e-04   7.26918872e-11\n",
      "    1.15749332e-09   1.31806701e-07   5.29614443e-11]\n",
      " [  5.55679613e-10   6.90331624e-04   1.79588620e-04   9.28528726e-01\n",
      "    6.37201083e-08   6.53521493e-02   6.93474362e-08   1.11829547e-06\n",
      "    2.87295325e-06   5.49123556e-08   1.05387544e-05   7.65304489e-04\n",
      "    9.00210172e-04   7.05080238e-05   9.20104185e-07   1.67012047e-07\n",
      "    1.60136628e-12   4.97968131e-07   8.22247996e-04   2.28842097e-07\n",
      "    3.24984921e-06   1.38049527e-05   9.79381680e-12   2.67456617e-08\n",
      "    1.06400531e-11   8.63650115e-04   1.41076093e-08   2.27114039e-11\n",
      "    2.79425798e-08   1.67958115e-05   2.56290259e-05   1.69922085e-03\n",
      "    1.11142299e-06   5.97993960e-07   1.14136320e-07   9.51058496e-07\n",
      "    1.92858897e-06   5.06720723e-14   4.75072593e-05   8.85534535e-10\n",
      "    3.73990616e-09   7.12838844e-10   2.46143639e-08]\n",
      " [  5.92917240e-05   4.07931991e-02   1.38813928e-01   4.72297639e-01\n",
      "    4.47086903e-04   2.43130445e-01   5.70164593e-06   8.25113710e-03\n",
      "    2.14332696e-02   7.43489538e-04   1.27890220e-04   1.72005780e-02\n",
      "    4.21597920e-02   1.66975049e-04   3.44456857e-05   2.48914177e-04\n",
      "    1.21428968e-06   1.63907869e-04   4.02280409e-03   1.69516952e-05\n",
      "    6.40413855e-05   2.54954357e-05   3.21010574e-09   1.93199739e-05\n",
      "    2.28649697e-07   3.69502450e-05   6.38035126e-05   8.22600953e-07\n",
      "    3.13304481e-05   1.28338253e-03   2.15779268e-03   4.53802350e-05\n",
      "    5.51857566e-03   6.11093265e-06   7.63853848e-07   7.59134200e-05\n",
      "    3.18500474e-06   4.95928365e-09   1.17649346e-04   7.37216466e-09\n",
      "    3.23540968e-04   4.21013028e-05   6.48151909e-05]]\n"
     ]
    }
   ],
   "source": [
    "##Applying softmax to logits\n",
    "with tf.Session() as sess:\n",
    "    softmax_probs = sess.run(tf.nn.softmax(new_images_classification))\n",
    "print(softmax_probs)"
   ]
  },
  {
   "cell_type": "code",
   "execution_count": 59,
   "metadata": {
    "collapsed": false,
    "deletable": true,
    "editable": true
   },
   "outputs": [
    {
     "name": "stdout",
     "output_type": "stream",
     "text": [
      "The image 0 is about [ 0.6922667   0.30023319  0.00215537  0.001801    0.00096669] chance to be the sign with index: [ 3  5 32 11 30]\n",
      "The image 1 is about [ 0.82363033  0.08360636  0.04133265  0.02295604  0.02141334] chance to be the sign with index: [ 3  1 32 13  5]\n",
      "The image 2 is about [ 0.95035684  0.01710486  0.01516867  0.00725479  0.00688135] chance to be the sign with index: [18  1 12 11 31]\n",
      "The image 3 is about [ 0.88734788  0.09415069  0.01257696  0.00161749  0.00147223] chance to be the sign with index: [ 3  5 18 30 11]\n",
      "The image 4 is about [  9.28528726e-01   6.53521493e-02   1.69922085e-03   9.00210172e-04\n",
      "   8.63650115e-04] chance to be the sign with index: [ 3  5 31 12 25]\n",
      "The image 5 is about [ 0.47229764  0.24313045  0.13881393  0.04215979  0.0407932 ] chance to be the sign with index: [ 3  5  2 12  1]\n"
     ]
    }
   ],
   "source": [
    "### Print out the top five softmax probabilities for the predictions on the German traffic sign images found on the web. \n",
    "## Finding top_k on the softmax outputs\n",
    "with tf.Session() as sess:\n",
    "    #predictions = sess.run(tf.nn.top_k(tf.constant(new_images_classification), k=5))\n",
    "    predictions = sess.run(tf.nn.top_k(tf.constant(softmax_probs), k=5))\n",
    "for i in range(len(predictions[0])):\n",
    "    print('The image', i, 'is about', predictions[0][i], 'chance to be the sign with index:', predictions[1][i])"
   ]
  }
 ],
 "metadata": {
  "anaconda-cloud": {},
  "kernelspec": {
   "display_name": "Python 3",
   "language": "python",
   "name": "python3"
  },
  "language_info": {
   "codemirror_mode": {
    "name": "ipython",
    "version": 3
   },
   "file_extension": ".py",
   "mimetype": "text/x-python",
   "name": "python",
   "nbconvert_exporter": "python",
   "pygments_lexer": "ipython3",
   "version": "3.5.2"
  },
  "widgets": {
   "state": {},
   "version": "1.1.2"
  }
 },
 "nbformat": 4,
 "nbformat_minor": 1
}
